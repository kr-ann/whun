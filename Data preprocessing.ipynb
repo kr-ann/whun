{
 "cells": [
  {
   "cell_type": "code",
   "execution_count": 1,
   "metadata": {},
   "outputs": [],
   "source": [
    "import numpy as np\n",
    "import pandas as pd"
   ]
  },
  {
   "cell_type": "code",
   "execution_count": 6,
   "metadata": {},
   "outputs": [],
   "source": [
    "def read_dataset(filename, column_name):\n",
    "    if filename.endswith('.csv'):\n",
    "        df = pd.read_csv(filename)\n",
    "    elif filename.endswith('.json'):\n",
    "        df = pd.read_json(filename)\n",
    "        \n",
    "    df['Length'] = df[column_name].str.len()\n",
    "    print(df.head())\n",
    "    print()\n",
    "    print(df['Length'].hist(bins=100))\n",
    "    print()\n",
    "    print(f\"Total # jokes: {df.shape[0]}\")\n",
    "    return df"
   ]
  },
  {
   "cell_type": "code",
   "execution_count": 8,
   "metadata": {},
   "outputs": [],
   "source": [
    "def select_QA_jokes(df, column_name):\n",
    "    what_jokes = df[df[column_name].str.lower().str.startswith(\"what\")][column_name].str.split(\"?\", n=1)\n",
    "    how_jokes = df[df[column_name].str.lower().str.startswith(\"how\")][column_name].str.split(\"?\", n=1)\n",
    "    why_jokes = df[df[column_name].str.lower().str.startswith(\"why\")][column_name].str.split(\"?\", n=1)\n",
    "    when_jokes = df[df[column_name].str.lower().str.startswith(\"when\")][column_name].str.split(\"?\", n=1)\n",
    "    where_jokes = df[df[column_name].str.lower().str.startswith(\"where\")][column_name].str.split(\"?\", n=1)\n",
    "    return what_jokes, how_jokes, why_jokes, when_jokes, where_jokes"
   ]
  },
  {
   "cell_type": "code",
   "execution_count": 2,
   "metadata": {},
   "outputs": [],
   "source": [
    "def save_text_to_file(jokes_df, list_of_names, output_file):\n",
    "    if len(list_of_names) == 2:  # for the case when Q and A are in different columns\n",
    "        jokes_list = (jokes_df[list_of_names[0]] + ' ' + jokes_df[list_of_names[1]]).values.tolist()\n",
    "    else:\n",
    "        jokes_list = (jokes_df[list_of_names[0]]).values.tolist()\n",
    "    \n",
    "    processed_jokes_list = []\n",
    "    for joke in jokes_list:\n",
    "        processed_joke = joke.replace('\\n', ' ').replace('\\r', ' ')\n",
    "        if not processed_joke:  # if the string is empty at this point - don't take it\n",
    "            continue\n",
    "        processed_jokes_list.append(processed_joke)\n",
    "    \n",
    "    jokes = \"\\n\".join(processed_jokes_list)\n",
    "\n",
    "    with open(output_file, 'w') as file:\n",
    "        file.write(jokes)"
   ]
  },
  {
   "cell_type": "code",
   "execution_count": 15,
   "metadata": {},
   "outputs": [],
   "source": [
    "def save_QA_with_special_symbols(df, output_name):\n",
    "    jokes_list = (\"<soq> \" + df.question + \" <eoq> \" + df.answer + \" <|endoftext|>\").values.tolist()\n",
    "    processed_jokes_list = []\n",
    "\n",
    "    for joke in jokes_list:\n",
    "        processed_joke = joke.replace('\\n', ' ').replace('\\r', ' ')\n",
    "        processed_jokes_list.append(processed_joke)\n",
    "\n",
    "    clean_jokes = \"\\n\".join(processed_jokes_list)\n",
    "\n",
    "    with open(output_name, \"w\") as f:\n",
    "        f.write(clean_jokes)"
   ]
  },
  {
   "cell_type": "markdown",
   "metadata": {},
   "source": [
    "## Explore & preprocess kaggle dataset"
   ]
  },
  {
   "cell_type": "code",
   "execution_count": 7,
   "metadata": {},
   "outputs": [
    {
     "name": "stdout",
     "output_type": "stream",
     "text": [
      "   ID                                               Joke  Length\n",
      "0   1  [me narrating a documentary about narrators] \"...      95\n",
      "1   2  Telling my daughter garlic is good for you. Go...     118\n",
      "2   3  I've been going through a really rough period ...     120\n",
      "3   4  If I could have dinner with anyone, dead or al...      90\n",
      "4   5     Two guys walk into a bar. The third guy ducks.      46\n",
      "\n",
      "AxesSubplot(0.125,0.125;0.775x0.755)\n",
      "\n",
      "Total # jokes: 231657\n"
     ]
    },
    {
     "data": {
      "image/png": "[encoded data removed]",
      "text/plain": [
       "<Figure size 432x288 with 1 Axes>"
      ]
     },
     "metadata": {
      "needs_background": "light"
     },
     "output_type": "display_data"
    }
   ],
   "source": [
    "kaggle_df = read_dataset('./datasets/intermediate/kaggle_shortjokes.csv', 'Joke')"
   ]
  },
  {
   "cell_type": "code",
   "execution_count": 9,
   "metadata": {},
   "outputs": [],
   "source": [
    "save_text_to_file(kaggle_df, ['Joke'], './datasets/intermediate/kaggle_plain')"
   ]
  },
  {
   "cell_type": "code",
   "execution_count": 9,
   "metadata": {},
   "outputs": [],
   "source": [
    "what_jokes, how_jokes, why_jokes, when_jokes, where_jokes = select_QA_jokes(kaggle_df, 'Joke')"
   ]
  },
  {
   "cell_type": "code",
   "execution_count": 12,
   "metadata": {},
   "outputs": [],
   "source": [
    "# split into two columns, questions and answers, and drop the ones without any answer\n",
    "jokes = []\n",
    "for joke_ in [what_jokes, how_jokes, why_jokes, when_jokes, where_jokes]:\n",
    "    joke_df_ = pd.DataFrame(joke_.values.tolist()).iloc[:, :2].dropna()\n",
    "    joke_df_.columns = [\"question\", \"answer\"]\n",
    "    jokes.append(joke_df_)\n",
    "\n",
    "jokes_df = pd.concat(jokes)\n",
    "jokes_df = (jokes_df[~(jokes_df.answer.isin([\"\"]))].drop_duplicates().reset_index(drop=True))"
   ]
  },
  {
   "cell_type": "code",
   "execution_count": 46,
   "metadata": {},
   "outputs": [],
   "source": [
    "save_text_to_file(jokes_df, [\"question\", \"answer\"], './datasets/intermediate/kaggle_QA')"
   ]
  },
  {
   "cell_type": "code",
   "execution_count": 16,
   "metadata": {},
   "outputs": [],
   "source": [
    "save_QA_with_special_symbols(jokes_df, './datasets/intermediate/kaggle_QA_with_special_symbols')"
   ]
  },
  {
   "cell_type": "markdown",
   "metadata": {},
   "source": [
    "## Exlpore & preprocess reddit jokes"
   ]
  },
  {
   "cell_type": "code",
   "execution_count": 10,
   "metadata": {},
   "outputs": [],
   "source": [
    "reddit_jokes = './datasets/reddit_jokes.json'"
   ]
  },
  {
   "cell_type": "code",
   "execution_count": 11,
   "metadata": {},
   "outputs": [],
   "source": [
    "# can't use the function for reading and info because this dataset has two columns for a joke: body and title\n",
    "reddit_df = pd.read_json(reddit_jokes)"
   ]
  },
  {
   "cell_type": "code",
   "execution_count": 12,
   "metadata": {},
   "outputs": [],
   "source": [
    "reddit_df['Length'] = reddit_df['body'].str.len() + reddit_df['title'].str.len()"
   ]
  },
  {
   "cell_type": "code",
   "execution_count": 13,
   "metadata": {
    "scrolled": true
   },
   "outputs": [
    {
     "data": {
      "text/html": [
       "<div>\n",
       "<style scoped>\n",
       "    .dataframe tbody tr th:only-of-type {\n",
       "        vertical-align: middle;\n",
       "    }\n",
       "\n",
       "    .dataframe tbody tr th {\n",
       "        vertical-align: top;\n",
       "    }\n",
       "\n",
       "    .dataframe thead th {\n",
       "        text-align: right;\n",
       "    }\n",
       "</style>\n",
       "<table border=\"1\" class=\"dataframe\">\n",
       "  <thead>\n",
       "    <tr style=\"text-align: right;\">\n",
       "      <th></th>\n",
       "      <th>body</th>\n",
       "      <th>id</th>\n",
       "      <th>score</th>\n",
       "      <th>title</th>\n",
       "      <th>Length</th>\n",
       "    </tr>\n",
       "  </thead>\n",
       "  <tbody>\n",
       "    <tr>\n",
       "      <th>0</th>\n",
       "      <td>Now I have to say \"Leroy can you please paint ...</td>\n",
       "      <td>5tz52q</td>\n",
       "      <td>1</td>\n",
       "      <td>I hate how you cant even say black paint anymore</td>\n",
       "      <td>105</td>\n",
       "    </tr>\n",
       "    <tr>\n",
       "      <th>1</th>\n",
       "      <td>Pizza doesn't scream when you put it in the ov...</td>\n",
       "      <td>5tz4dd</td>\n",
       "      <td>0</td>\n",
       "      <td>What's the difference between a Jew in Nazi Ge...</td>\n",
       "      <td>128</td>\n",
       "    </tr>\n",
       "    <tr>\n",
       "      <th>2</th>\n",
       "      <td>...and being there really helped me learn abou...</td>\n",
       "      <td>5tz319</td>\n",
       "      <td>0</td>\n",
       "      <td>I recently went to America....</td>\n",
       "      <td>204</td>\n",
       "    </tr>\n",
       "    <tr>\n",
       "      <th>3</th>\n",
       "      <td>A Sunday school teacher is concerned that his ...</td>\n",
       "      <td>5tz2wj</td>\n",
       "      <td>1</td>\n",
       "      <td>Brian raises his hand and says, “He’s in Heaven.”</td>\n",
       "      <td>577</td>\n",
       "    </tr>\n",
       "    <tr>\n",
       "      <th>4</th>\n",
       "      <td>He got caught trying to sell the two books to ...</td>\n",
       "      <td>5tz1pc</td>\n",
       "      <td>0</td>\n",
       "      <td>You hear about the University book store worke...</td>\n",
       "      <td>157</td>\n",
       "    </tr>\n",
       "    <tr>\n",
       "      <th>5</th>\n",
       "      <td>Because the p is silent.</td>\n",
       "      <td>5tz1o1</td>\n",
       "      <td>0</td>\n",
       "      <td>Why is it unknown on how pterodactyls urinate ...</td>\n",
       "      <td>95</td>\n",
       "    </tr>\n",
       "    <tr>\n",
       "      <th>6</th>\n",
       "      <td>To avoid leaving tracks like a snail while wal...</td>\n",
       "      <td>5tz0ef</td>\n",
       "      <td>0</td>\n",
       "      <td>Why women need legs?</td>\n",
       "      <td>71</td>\n",
       "    </tr>\n",
       "    <tr>\n",
       "      <th>7</th>\n",
       "      <td>Apparently \"Whatever's low in cholesterol\" was...</td>\n",
       "      <td>5tz04j</td>\n",
       "      <td>1</td>\n",
       "      <td>I walked into a PETA adoption center and the r...</td>\n",
       "      <td>160</td>\n",
       "    </tr>\n",
       "    <tr>\n",
       "      <th>8</th>\n",
       "      <td>Character actors!</td>\n",
       "      <td>5tz02q</td>\n",
       "      <td>0</td>\n",
       "      <td>How did TV studios make words appear on screen...</td>\n",
       "      <td>81</td>\n",
       "    </tr>\n",
       "    <tr>\n",
       "      <th>9</th>\n",
       "      <td>You follow his fresh prints.</td>\n",
       "      <td>5tz02h</td>\n",
       "      <td>0</td>\n",
       "      <td>How do you find Will Smith in the snow?</td>\n",
       "      <td>68</td>\n",
       "    </tr>\n",
       "  </tbody>\n",
       "</table>\n",
       "</div>"
      ],
      "text/plain": [
       "                                                body      id  score  \\\n",
       "0  Now I have to say \"Leroy can you please paint ...  5tz52q      1   \n",
       "1  Pizza doesn't scream when you put it in the ov...  5tz4dd      0   \n",
       "2  ...and being there really helped me learn abou...  5tz319      0   \n",
       "3  A Sunday school teacher is concerned that his ...  5tz2wj      1   \n",
       "4  He got caught trying to sell the two books to ...  5tz1pc      0   \n",
       "5                           Because the p is silent.  5tz1o1      0   \n",
       "6  To avoid leaving tracks like a snail while wal...  5tz0ef      0   \n",
       "7  Apparently \"Whatever's low in cholesterol\" was...  5tz04j      1   \n",
       "8                                  Character actors!  5tz02q      0   \n",
       "9                      You follow his fresh prints.   5tz02h      0   \n",
       "\n",
       "                                               title  Length  \n",
       "0   I hate how you cant even say black paint anymore     105  \n",
       "1  What's the difference between a Jew in Nazi Ge...     128  \n",
       "2                     I recently went to America....     204  \n",
       "3  Brian raises his hand and says, “He’s in Heaven.”     577  \n",
       "4  You hear about the University book store worke...     157  \n",
       "5  Why is it unknown on how pterodactyls urinate ...      95  \n",
       "6                               Why women need legs?      71  \n",
       "7  I walked into a PETA adoption center and the r...     160  \n",
       "8  How did TV studios make words appear on screen...      81  \n",
       "9            How do you find Will Smith in the snow?      68  "
      ]
     },
     "execution_count": 13,
     "metadata": {},
     "output_type": "execute_result"
    }
   ],
   "source": [
    "reddit_df.head(10)"
   ]
  },
  {
   "cell_type": "code",
   "execution_count": 14,
   "metadata": {},
   "outputs": [
    {
     "data": {
      "text/plain": [
       "194553"
      ]
     },
     "execution_count": 14,
     "metadata": {},
     "output_type": "execute_result"
    }
   ],
   "source": [
    "reddit_df.shape[0]"
   ]
  },
  {
   "cell_type": "code",
   "execution_count": 93,
   "metadata": {},
   "outputs": [],
   "source": [
    "save_text_to_file(reddit_df, ['title', 'body'], './datasets/intermediate/reddit_plain')"
   ]
  },
  {
   "cell_type": "code",
   "execution_count": 16,
   "metadata": {},
   "outputs": [
    {
     "data": {
      "text/plain": [
       "<AxesSubplot:>"
      ]
     },
     "execution_count": 16,
     "metadata": {},
     "output_type": "execute_result"
    },
    {
     "data": {
      "image/png": "[encoded data removed]",
      "text/plain": [
       "<Figure size 432x288 with 1 Axes>"
      ]
     },
     "metadata": {
      "needs_background": "light"
     },
     "output_type": "display_data"
    }
   ],
   "source": [
    "reddit_df['Length'].hist(bins=100)  # histogram of jokes' lengths"
   ]
  },
  {
   "cell_type": "code",
   "execution_count": 17,
   "metadata": {},
   "outputs": [],
   "source": [
    "# the kaggle dataset contained only jokes of len <200, so we'll do the same for this one\n",
    "shorter_reddit_jokes_df = reddit_df[reddit_df['Length'] < 200]"
   ]
  },
  {
   "cell_type": "code",
   "execution_count": 19,
   "metadata": {},
   "outputs": [
    {
     "data": {
      "text/plain": [
       "<AxesSubplot:>"
      ]
     },
     "execution_count": 19,
     "metadata": {},
     "output_type": "execute_result"
    },
    {
     "data": {
      "image/png": "[encoded data removed]",
      "text/plain": [
       "<Figure size 432x288 with 1 Axes>"
      ]
     },
     "metadata": {
      "needs_background": "light"
     },
     "output_type": "display_data"
    }
   ],
   "source": [
    "shorter_reddit_jokes_df['Length'].hist(bins=100)"
   ]
  },
  {
   "cell_type": "code",
   "execution_count": 94,
   "metadata": {},
   "outputs": [],
   "source": [
    "save_text_to_file(shorter_reddit_jokes_df, ['title', 'body'], './datasets/intermediate/reddit_plain_200')"
   ]
  },
  {
   "cell_type": "code",
   "execution_count": 81,
   "metadata": {},
   "outputs": [],
   "source": [
    "# leave only jokes that start with what how why when where\n",
    "# this is also a bit different from what we did for the first dataset\n",
    "what_jokes = shorter_reddit_jokes_df[shorter_reddit_jokes_df.title.str.lower().str.startswith(\"what\")]\n",
    "how_jokes = shorter_reddit_jokes_df[shorter_reddit_jokes_df.title.str.lower().str.startswith(\"how\")]\n",
    "why_jokes = shorter_reddit_jokes_df[shorter_reddit_jokes_df.title.str.lower().str.startswith(\"why\")]\n",
    "when_jokes = shorter_reddit_jokes_df[shorter_reddit_jokes_df.title.str.lower().str.startswith(\"when\")]\n",
    "where_jokes = shorter_reddit_jokes_df[shorter_reddit_jokes_df.title.str.lower().str.startswith(\"where\")]"
   ]
  },
  {
   "cell_type": "code",
   "execution_count": 82,
   "metadata": {},
   "outputs": [],
   "source": [
    "# leave two columns, questions and answers, and drop the ones without any answer\n",
    "jokes = []\n",
    "for joke_ in [what_jokes, how_jokes, why_jokes, when_jokes, where_jokes]:\n",
    "    joke_df_ = pd.DataFrame(joke_.values.tolist()).iloc[:, [0, 3]].dropna()\n",
    "    joke_df_.columns = [\"answer\", \"question\"]\n",
    "    jokes.append(joke_df_)\n",
    "\n",
    "jokes_df = pd.concat(jokes)\n",
    "jokes_df = (jokes_df[~(jokes_df.answer.isin([\"\"]))].drop_duplicates().reset_index(drop=True))"
   ]
  },
  {
   "cell_type": "code",
   "execution_count": 51,
   "metadata": {},
   "outputs": [],
   "source": [
    "save_text_to_file(jokes_df, [\"question\", \"answer\"], './datasets/intermediate/reddit_QA')"
   ]
  },
  {
   "cell_type": "code",
   "execution_count": 83,
   "metadata": {},
   "outputs": [],
   "source": [
    "save_QA_with_special_symbols(jokes_df, './datasets/intermediate/reddit_QA_with_special_symbols')"
   ]
  },
  {
   "cell_type": "markdown",
   "metadata": {},
   "source": [
    "## Explore & preprocess stupidstuff jokes"
   ]
  },
  {
   "cell_type": "code",
   "execution_count": 17,
   "metadata": {},
   "outputs": [
    {
     "name": "stdout",
     "output_type": "stream",
     "text": [
      "                                                body      category  id  \\\n",
      "0  A blackjack dealer and a player with a thirtee...      Children   1   \n",
      "1  At a dinner party, several of the guests were ...  Blonde Jokes   2   \n",
      "2  One day this cop pulls over a blonde for speed...  Blonde Jokes   3   \n",
      "3  Three women are about to be executed for crime...  Blonde Jokes   4   \n",
      "4  A girl came skipping home FROM school one day....  Blonde Jokes   5   \n",
      "\n",
      "   rating  Length  \n",
      "0    2.63     534  \n",
      "1    2.57     446  \n",
      "2    3.09     224  \n",
      "3    4.10     892  \n",
      "4    4.30     987  \n",
      "\n",
      "AxesSubplot(0.125,0.125;0.775x0.755)\n",
      "\n",
      "Total # jokes: 3773\n"
     ]
    },
    {
     "data": {
      "image/png": "[encoded data removed]",
      "text/plain": [
       "<Figure size 432x288 with 1 Axes>"
      ]
     },
     "metadata": {
      "needs_background": "light"
     },
     "output_type": "display_data"
    }
   ],
   "source": [
    "stupidstuff_df = read_dataset('./datasets/intermediate/stupidstuff.json', 'body')"
   ]
  },
  {
   "cell_type": "code",
   "execution_count": 24,
   "metadata": {},
   "outputs": [],
   "source": [
    "save_text_to_file(stupidstuff_df, ['body'], './datasets/intermediate/stupidstuff_plain')"
   ]
  },
  {
   "cell_type": "code",
   "execution_count": 18,
   "metadata": {},
   "outputs": [
    {
     "data": {
      "text/plain": [
       "<AxesSubplot:>"
      ]
     },
     "execution_count": 18,
     "metadata": {},
     "output_type": "execute_result"
    },
    {
     "data": {
      "image/png": "[encoded data removed]",
      "text/plain": [
       "<Figure size 432x288 with 1 Axes>"
      ]
     },
     "metadata": {
      "needs_background": "light"
     },
     "output_type": "display_data"
    }
   ],
   "source": [
    "# the kaggle dataset contained only jokes of len <200, so we'll do the same for this one\n",
    "shorter_stupidstuff_df = stupidstuff_df[stupidstuff_df['Length'] < 200]\n",
    "shorter_stupidstuff_df['Length'].hist(bins=100)"
   ]
  },
  {
   "cell_type": "code",
   "execution_count": 28,
   "metadata": {},
   "outputs": [],
   "source": [
    "save_text_to_file(shorter_stupidstuff_df, ['body'], './datasets/intermediate/stupidstuff_plain_200')"
   ]
  },
  {
   "cell_type": "code",
   "execution_count": 19,
   "metadata": {},
   "outputs": [],
   "source": [
    "what_jokes, how_jokes, why_jokes, when_jokes, where_jokes = select_QA_jokes(shorter_stupidstuff_df, 'body')"
   ]
  },
  {
   "cell_type": "code",
   "execution_count": 85,
   "metadata": {},
   "outputs": [],
   "source": [
    "jokes = []\n",
    "for joke_ in [what_jokes, how_jokes, why_jokes, when_jokes, where_jokes]:\n",
    "    if joke_.empty:\n",
    "        continue\n",
    "    joke_df_ = pd.DataFrame(joke_.values.tolist()).dropna()\n",
    "    joke_df_.columns = [\"question\", \"answer\"]\n",
    "    jokes.append(joke_df_)\n",
    "\n",
    "jokes_df = pd.concat(jokes)\n",
    "jokes_df = (jokes_df[~(jokes_df.answer.isin([\"\"]))].drop_duplicates().reset_index(drop=True))"
   ]
  },
  {
   "cell_type": "code",
   "execution_count": 58,
   "metadata": {},
   "outputs": [],
   "source": [
    "save_text_to_file(jokes_df, [\"question\", \"answer\"], './datasets/intermediate/stupidstuff_QA')"
   ]
  },
  {
   "cell_type": "code",
   "execution_count": 86,
   "metadata": {},
   "outputs": [],
   "source": [
    "save_QA_with_special_symbols(jokes_df, './datasets/intermediate/stupidstuff_QA_with_special_symbols')"
   ]
  },
  {
   "cell_type": "markdown",
   "metadata": {},
   "source": [
    "## Explore & preprocess wocka jokes"
   ]
  },
  {
   "cell_type": "code",
   "execution_count": 24,
   "metadata": {
    "scrolled": false
   },
   "outputs": [
    {
     "name": "stdout",
     "output_type": "stream",
     "text": [
      "                                                body      category  id  \\\n",
      "0  What do you call a cow with no legs?\\r\\n\\r\\nGr...        Animal   1   \n",
      "1  What do you call a cow jumping over a barbed w...        Animal   2   \n",
      "2  What's black and white and red all over?\\r\\n\\r...  Other / Misc   4   \n",
      "3  So, this guy walks into a bar.\\r\\n\\r\\nAnd says...           Bar   5   \n",
      "4  If the opposite of pro is con, isn't the oppos...    One Liners   6   \n",
      "\n",
      "                  title  Length  \n",
      "0      Cow With No Legs      52  \n",
      "1           Jumping Cow      78  \n",
      "2  Black, White and Red      56  \n",
      "3          Guy in a Bar      51  \n",
      "4              Progress      72  \n",
      "\n",
      "AxesSubplot(0.125,0.125;0.775x0.755)\n",
      "\n",
      "Total # jokes: 10019\n"
     ]
    },
    {
     "data": {
      "image/png": "[encoded data removed]",
      "text/plain": [
       "<Figure size 432x288 with 1 Axes>"
      ]
     },
     "metadata": {
      "needs_background": "light"
     },
     "output_type": "display_data"
    }
   ],
   "source": [
    "wocka_df = read_dataset('./datasets/intermediate/wocka.json', 'body')"
   ]
  },
  {
   "cell_type": "code",
   "execution_count": 33,
   "metadata": {},
   "outputs": [],
   "source": [
    "save_text_to_file(wocka_df, ['body'], './datasets/intermediate/wocka_plain')"
   ]
  },
  {
   "cell_type": "code",
   "execution_count": 22,
   "metadata": {},
   "outputs": [],
   "source": [
    "# again, delete jokes bigger than 200 symbols\n",
    "shorter_wocka_df = wocka_df[wocka_df['Length'] < 200]"
   ]
  },
  {
   "cell_type": "code",
   "execution_count": 35,
   "metadata": {},
   "outputs": [
    {
     "data": {
      "text/plain": [
       "<AxesSubplot:>"
      ]
     },
     "execution_count": 35,
     "metadata": {},
     "output_type": "execute_result"
    },
    {
     "data": {
      "image/png": "[encoded data removed]",
      "text/plain": [
       "<Figure size 432x288 with 1 Axes>"
      ]
     },
     "metadata": {
      "needs_background": "light"
     },
     "output_type": "display_data"
    }
   ],
   "source": [
    "shorter_wocka_df['Length'].hist(bins=100)"
   ]
  },
  {
   "cell_type": "code",
   "execution_count": 36,
   "metadata": {},
   "outputs": [],
   "source": [
    "save_text_to_file(shorter_wocka_df, ['body'], './datasets/intermediate/wocka_plain_200')"
   ]
  },
  {
   "cell_type": "code",
   "execution_count": 23,
   "metadata": {},
   "outputs": [],
   "source": [
    "what_jokes, how_jokes, why_jokes, when_jokes, where_jokes = select_QA_jokes(shorter_wocka_df, 'body')"
   ]
  },
  {
   "cell_type": "code",
   "execution_count": 88,
   "metadata": {},
   "outputs": [],
   "source": [
    "jokes = []\n",
    "for joke_ in [what_jokes, how_jokes, why_jokes, when_jokes, where_jokes]:\n",
    "    if joke_.empty:\n",
    "        continue\n",
    "    joke_df_ = pd.DataFrame(joke_.values.tolist()).dropna()\n",
    "    joke_df_.columns = [\"question\", \"answer\"]\n",
    "    jokes.append(joke_df_)\n",
    "\n",
    "jokes_df = pd.concat(jokes)\n",
    "jokes_df = (jokes_df[~(jokes_df.answer.isin([\"\"]))].drop_duplicates().reset_index(drop=True))"
   ]
  },
  {
   "cell_type": "code",
   "execution_count": 62,
   "metadata": {},
   "outputs": [],
   "source": [
    "save_text_to_file(jokes_df, [\"question\", \"answer\"], './datasets/intermediate/wocka_QA')"
   ]
  },
  {
   "cell_type": "code",
   "execution_count": 89,
   "metadata": {},
   "outputs": [],
   "source": [
    "save_QA_with_special_symbols(jokes_df, './datasets/intermediate/wocka_QA_with_special_symbols')"
   ]
  },
  {
   "cell_type": "markdown",
   "metadata": {},
   "source": [
    "## Explore & preprocess semeval jokes"
   ]
  },
  {
   "cell_type": "code",
   "execution_count": 25,
   "metadata": {},
   "outputs": [
    {
     "name": "stdout",
     "output_type": "stream",
     "text": [
      "   id                                               text  is_humor  \\\n",
      "0   1  TENNESSEE: We're the best state. Nobody even c...         1   \n",
      "1   2  A man inserted an advertisement in the classif...         1   \n",
      "2   3  How many men does it take to open a can of bee...         1   \n",
      "3   4  Told my mom I hit 1200 Twitter followers. She ...         1   \n",
      "4   5  Roses are dead. Love is fake. Weddings are bas...         1   \n",
      "\n",
      "   humor_rating  humor_controversy  offense_rating  Length  \n",
      "0          2.42                1.0             0.2     114  \n",
      "1          2.50                1.0             1.1     189  \n",
      "2          1.95                0.0             2.4     112  \n",
      "3          2.11                1.0             0.0     139  \n",
      "4          2.78                0.0             0.1      72  \n",
      "\n",
      "AxesSubplot(0.125,0.125;0.775x0.755)\n",
      "\n",
      "Total # jokes: 8000\n"
     ]
    },
    {
     "data": {
      "image/png": "[encoded data removed]",
      "text/plain": [
       "<Figure size 432x288 with 1 Axes>"
      ]
     },
     "metadata": {
      "needs_background": "light"
     },
     "output_type": "display_data"
    }
   ],
   "source": [
    "semeval_df = read_dataset('./datasets/intermediate/semeval.csv', 'text')"
   ]
  },
  {
   "cell_type": "code",
   "execution_count": 41,
   "metadata": {},
   "outputs": [],
   "source": [
    "save_text_to_file(semeval_df, ['text'], './datasets/intermediate/semeval_plain')"
   ]
  },
  {
   "cell_type": "code",
   "execution_count": 26,
   "metadata": {},
   "outputs": [],
   "source": [
    "shorter_semeval_df = semeval_df[semeval_df['Length'] < 200]"
   ]
  },
  {
   "cell_type": "code",
   "execution_count": 43,
   "metadata": {},
   "outputs": [],
   "source": [
    "save_text_to_file(shorter_semeval_df, ['text'], './datasets/intermediate/semeval_plain_200')"
   ]
  },
  {
   "cell_type": "code",
   "execution_count": 27,
   "metadata": {},
   "outputs": [],
   "source": [
    "what_jokes, how_jokes, why_jokes, when_jokes, where_jokes = select_QA_jokes(shorter_semeval_df, 'text')"
   ]
  },
  {
   "cell_type": "code",
   "execution_count": 91,
   "metadata": {},
   "outputs": [],
   "source": [
    "jokes = []\n",
    "for joke_ in [what_jokes, how_jokes, why_jokes, when_jokes, where_jokes]:\n",
    "    if joke_.empty:\n",
    "        continue\n",
    "    joke_df_ = pd.DataFrame(joke_.values.tolist()).dropna()\n",
    "    joke_df_.columns = [\"question\", \"answer\"]\n",
    "    jokes.append(joke_df_)\n",
    "\n",
    "jokes_df = pd.concat(jokes)\n",
    "jokes_df = (jokes_df[~(jokes_df.answer.isin([\"\"]))].drop_duplicates().reset_index(drop=True))"
   ]
  },
  {
   "cell_type": "code",
   "execution_count": 68,
   "metadata": {},
   "outputs": [],
   "source": [
    "save_text_to_file(jokes_df, [\"question\", \"answer\"], './datasets/intermediate/semeval_QA')"
   ]
  },
  {
   "cell_type": "code",
   "execution_count": 92,
   "metadata": {},
   "outputs": [],
   "source": [
    "save_QA_with_special_symbols(jokes_df, './datasets/intermediate/semeval_QA_with_special_symbols')"
   ]
  },
  {
   "cell_type": "code",
   "execution_count": null,
   "metadata": {},
   "outputs": [],
   "source": []
  }
 ],
 "metadata": {
  "kernelspec": {
   "display_name": "Python 3",
   "language": "python",
   "name": "python3"
  },
  "language_info": {
   "codemirror_mode": {
    "name": "ipython",
    "version": 3
   },
   "file_extension": ".py",
   "mimetype": "text/x-python",
   "name": "python",
   "nbconvert_exporter": "python",
   "pygments_lexer": "ipython3",
   "version": "3.6.9"
  }
 },
 "nbformat": 4,
 "nbformat_minor": 4
}
